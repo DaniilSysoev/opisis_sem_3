{
  "nbformat": 4,
  "nbformat_minor": 0,
  "metadata": {
    "colab": {
      "provenance": [],
      "authorship_tag": "ABX9TyP9o2fuuc2Z7JvPvP9+sRXm",
      "include_colab_link": true
    },
    "kernelspec": {
      "name": "python3",
      "display_name": "Python 3"
    },
    "language_info": {
      "name": "python"
    }
  },
  "cells": [
    {
      "cell_type": "markdown",
      "metadata": {
        "id": "view-in-github",
        "colab_type": "text"
      },
      "source": [
        "<a href=\"https://colab.research.google.com/github/DaniilSysoev/opisis_sem_3/blob/main/%D0%9E%D0%BF%D0%B8%D1%81%D0%B8%D1%81_%D1%81%D0%B5%D0%BC_3.ipynb\" target=\"_parent\"><img src=\"https://colab.research.google.com/assets/colab-badge.svg\" alt=\"Open In Colab\"/></a>"
      ]
    },
    {
      "cell_type": "markdown",
      "source": [
        "<h1>Обратное дискретное преобразование Фурье. Быстрое преобразование Фурье.</h1>"
      ],
      "metadata": {
        "id": "Kjp9R8k5b6pX"
      }
    },
    {
      "cell_type": "markdown",
      "source": [
        "<h2>Введем необходимые библиотеки для работы</h2>"
      ],
      "metadata": {
        "id": "KsJ4D_RycQMe"
      }
    },
    {
      "cell_type": "code",
      "execution_count": null,
      "metadata": {
        "id": "AhwNzGw9b26E"
      },
      "outputs": [],
      "source": [
        "import numpy as np\n",
        "from math import *\n",
        "import matplotlib.pyplot as plt\n",
        "import time"
      ]
    },
    {
      "cell_type": "markdown",
      "source": [
        "<h2>Напишем функцию сигнала, над которым мы будем производить прямое и обратное преобразование Фурье, а также быстрое, для сравнения.</h2>"
      ],
      "metadata": {
        "id": "kv2vKsGJdu2C"
      }
    },
    {
      "cell_type": "code",
      "source": [
        "def signal(x):\n",
        "  return np.sin(2.0*np.pi*x)+2.0*np.sin(4.0*np.pi*x)+0.5*np.sin(6.0*np.pi*x)"
      ],
      "metadata": {
        "id": "uTk3p-Wkd43F"
      },
      "execution_count": null,
      "outputs": []
    },
    {
      "cell_type": "markdown",
      "source": [
        "<h2>Введем функции прямого и обратного дискретного преобразования Фурье</h2>"
      ],
      "metadata": {
        "id": "vIVnM916eUf9"
      }
    },
    {
      "cell_type": "markdown",
      "source": [
        "<h3>Прямое дискретное преобразование Фурье</h3>"
      ],
      "metadata": {
        "id": "TyC7B068eeIS"
      }
    },
    {
      "cell_type": "code",
      "source": [
        "def dft(data):\n",
        "  n = len(data)\n",
        "  spectr = [0.0+0.0j]*n\n",
        "  coef = 2.0/n\n",
        "  arg = np.pi*coef\n",
        "  for i in range(n):\n",
        "    for j in range(n):\n",
        "      spectr[i] += data[j]*(np.cos(arg*i*j)-np.sin(arg*i*j)*1j)\n",
        "  return np.array(spectr, dtype=complex)"
      ],
      "metadata": {
        "id": "2Rsth6Puea4d"
      },
      "execution_count": null,
      "outputs": []
    },
    {
      "cell_type": "markdown",
      "source": [
        "<h3>Обратное дискретное преобразование Фурье</h3>"
      ],
      "metadata": {
        "id": "8Ga_07GAfe4P"
      }
    },
    {
      "cell_type": "code",
      "source": [
        "def idft(data):\n",
        "  n = len(data)\n",
        "  signal = [0.0+0.0j]*n\n",
        "  coef = 2.0/n\n",
        "  arg = np.pi*coef\n",
        "  for i in range(n):\n",
        "    for j in range(n):\n",
        "      signal[i] += data[j]*(np.cos(arg*i*(j+0))-np.sin(arg*i*(j+0))*1j)\n",
        "  return np.array(signal, dtype=complex)/n"
      ],
      "metadata": {
        "id": "7vs3frUEfjXK"
      },
      "execution_count": null,
      "outputs": []
    },
    {
      "cell_type": "markdown",
      "source": [
        "<h2>Введем необходимые величины для сигнала</h2>\n",
        "<h3>Входные данные:</h3>\n",
        "<h4>Опорная частота сигнала: 5<br>Временной интервал: 4<br>Число временных отсчетов: 1000</h4>"
      ],
      "metadata": {
        "id": "yEqDVHRqh4P3"
      }
    },
    {
      "cell_type": "code",
      "source": [
        "f = float(input(\"Опорная частота сигнала \"))\n",
        "T = float(input('Временной интервал '))\n",
        "n = int(input('Число временных отсчетов '))"
      ],
      "metadata": {
        "colab": {
          "base_uri": "https://localhost:8080/"
        },
        "id": "KzcLr6x2h8CJ",
        "outputId": "6127a28d-d43b-4fb4-9568-6188479d2ece"
      },
      "execution_count": null,
      "outputs": [
        {
          "name": "stdout",
          "output_type": "stream",
          "text": [
            "Опорная частота сигнала 5\n",
            "Временной интервал 4\n",
            "Число временных отсчетов 1000\n"
          ]
        }
      ]
    },
    {
      "cell_type": "markdown",
      "source": [
        "<h2>Введем временную шкалу и построим функцию сигнала по ней</h2>"
      ],
      "metadata": {
        "id": "1-ZTGz9Eieob"
      }
    },
    {
      "cell_type": "code",
      "source": [
        "t = np.linspace(0, T, n)\n",
        "u = []\n",
        "for i in range(n):\n",
        "  u.append(signal(f*t[i]))"
      ],
      "metadata": {
        "id": "AapI80aIijRM"
      },
      "execution_count": null,
      "outputs": []
    },
    {
      "cell_type": "markdown",
      "source": [
        "<h2>Проведем рассчет прямого дискретного и быстрого преобразования Фурье и произведем замер времени выполнения</h2>"
      ],
      "metadata": {
        "id": "a8U1LNahjFk7"
      }
    },
    {
      "cell_type": "markdown",
      "source": [
        "<h3>Время вычисления дискретного преобразования Фурье</h3>"
      ],
      "metadata": {
        "id": "48I642_Zj9i8"
      }
    },
    {
      "cell_type": "code",
      "source": [
        "print('Рассчет ДПФ...')\n",
        "start_time_dft = time.time()\n",
        "spec1 = dft(u)\n",
        "stop_time_dft = time.time() - start_time_dft\n",
        "print('Время рассчета ДПФ: '+str(stop_time_dft))"
      ],
      "metadata": {
        "colab": {
          "base_uri": "https://localhost:8080/"
        },
        "id": "2udR-Pm9jO9B",
        "outputId": "923fc74a-903c-464a-f477-6afc6717d5d1"
      },
      "execution_count": null,
      "outputs": [
        {
          "output_type": "stream",
          "name": "stdout",
          "text": [
            "Рассчет ДПФ...\n",
            "Время рассчета ДПФ: 8.893914699554443\n"
          ]
        }
      ]
    },
    {
      "cell_type": "markdown",
      "source": [
        "<h3>Время вычисления быстрого преобразования Фурье</h3>"
      ],
      "metadata": {
        "id": "C-jJFdQzkVc7"
      }
    },
    {
      "cell_type": "code",
      "source": [
        "print('Рассчет БПФ...')\n",
        "start_time_fft = time.time()\n",
        "spec2 = np.fft.fft(u)\n",
        "stop_time_fft = time.time() - start_time_fft\n",
        "print('Время рассчета БПФ: '+str(stop_time_fft))"
      ],
      "metadata": {
        "colab": {
          "base_uri": "https://localhost:8080/"
        },
        "id": "BiVdD2rdkZ7A",
        "outputId": "171d6f28-06a6-4345-ebed-9ded9900cbcf"
      },
      "execution_count": null,
      "outputs": [
        {
          "output_type": "stream",
          "name": "stdout",
          "text": [
            "Рассчет БПФ...\n",
            "Время рассчета БПФ: 0.0003771781921386719\n"
          ]
        }
      ]
    },
    {
      "cell_type": "markdown",
      "source": [
        "<h3>Оценим скорость рассчета спектра ДПФ и БПФ</h3>"
      ],
      "metadata": {
        "id": "npzfGbueliJF"
      }
    },
    {
      "cell_type": "code",
      "source": [
        "if stop_time_dft > stop_time_fft:\n",
        "  print(f\"БПФ выполняется быстрее ДПФ в {stop_time_dft/stop_time_fft} раз\")\n",
        "else:\n",
        "  print(f\"ДПФ выполняется быстрее БПФ в {stop_time_fft/stop_time_dft} раз\")"
      ],
      "metadata": {
        "colab": {
          "base_uri": "https://localhost:8080/"
        },
        "id": "oEZAR7mklmvt",
        "outputId": "f9a747e8-36fb-4d7e-dc44-9016e07f811e"
      },
      "execution_count": null,
      "outputs": [
        {
          "output_type": "stream",
          "name": "stdout",
          "text": [
            "БПФ выполняется быстрее ДПФ в 23580.14032869785 раз\n"
          ]
        }
      ]
    },
    {
      "cell_type": "markdown",
      "source": [
        "<h2>Выполним обратное дискретное и быстрое преобразование Фурье</h2>"
      ],
      "metadata": {
        "id": "xUl9bhBVma6B"
      }
    },
    {
      "cell_type": "code",
      "source": [
        "sig_dft = idft(spec1)\n",
        "sig_fft = np.fft.ifft(spec2)"
      ],
      "metadata": {
        "id": "1kdO6GZFmhFh"
      },
      "execution_count": null,
      "outputs": []
    },
    {
      "cell_type": "markdown",
      "source": [
        "<h2>Введем частотную шкалу и построим модели сигналов до преобразований и после</h2>"
      ],
      "metadata": {
        "id": "Iak0E1Jcndl2"
      }
    },
    {
      "cell_type": "code",
      "source": [
        "freq = np.fft.fftfreq(n, T/n)"
      ],
      "metadata": {
        "id": "t9modN15nu-A"
      },
      "execution_count": null,
      "outputs": []
    },
    {
      "cell_type": "markdown",
      "source": [
        "<h3>Сигнал до преобразования</h3>"
      ],
      "metadata": {
        "id": "4EU6QbI1oOv8"
      }
    },
    {
      "cell_type": "code",
      "source": [
        "from importlib import reload\n",
        "reload(plt)\n",
        "plt.xlim(0, 1)\n",
        "plt.plot(t, u)"
      ],
      "metadata": {
        "colab": {
          "base_uri": "https://localhost:8080/",
          "height": 282
        },
        "id": "0WIcaV3ZoTBa",
        "outputId": "bd31b260-1197-4762-b093-2af8a410cf81"
      },
      "execution_count": null,
      "outputs": [
        {
          "output_type": "execute_result",
          "data": {
            "text/plain": [
              "[<matplotlib.lines.Line2D at 0x7f5eda35fa90>]"
            ]
          },
          "metadata": {},
          "execution_count": 50
        },
        {
          "output_type": "display_data",
          "data": {
            "text/plain": [
              "<Figure size 432x288 with 1 Axes>"
            ],
            "image/png": "[encoded data removed]"
          },
          "metadata": {
            "needs_background": "light"
          }
        }
      ]
    },
    {
      "cell_type": "markdown",
      "source": [
        "<h3>Спектр дискретного и быстрого преобразования Фурье</h3>"
      ],
      "metadata": {
        "id": "wSR2iiEJnofN"
      }
    },
    {
      "cell_type": "code",
      "source": [
        "plt.plot(freq[0:n//2], (np.hypot(spec1.real, spec1.imag)/n*2.0)[0:n//2], label='ДПФ')\n",
        "plt.plot(freq[0:n//2], (np.hypot(spec2.real, spec2.imag)/n*2.0)[0:n//2], '--', label='БПФ')\n",
        "plt.xlim(0, 20)"
      ],
      "metadata": {
        "id": "uU1hT1UOns3y",
        "colab": {
          "base_uri": "https://localhost:8080/",
          "height": 282
        },
        "outputId": "ca066606-9834-4f2b-f73c-71588f8f695b"
      },
      "execution_count": 58,
      "outputs": [
        {
          "output_type": "execute_result",
          "data": {
            "text/plain": [
              "(0.0, 20.0)"
            ]
          },
          "metadata": {},
          "execution_count": 58
        },
        {
          "output_type": "display_data",
          "data": {
            "text/plain": [
              "<Figure size 432x288 with 1 Axes>"
            ],
            "image/png": "[encoded data removed]"
          },
          "metadata": {
            "needs_background": "light"
          }
        }
      ]
    },
    {
      "cell_type": "markdown",
      "source": [
        "<h3>Построим модель сигнала после обратного дискретного преобразования Фурье</h3>"
      ],
      "metadata": {
        "id": "EaU5BvCt5CHx"
      }
    },
    {
      "cell_type": "code",
      "source": [
        "plt.plot(t, sig_dft.real, label='ОДПФ')\n",
        "plt.xlim(0, 1)"
      ],
      "metadata": {
        "colab": {
          "base_uri": "https://localhost:8080/",
          "height": 282
        },
        "id": "32WsZ4ea5YOh",
        "outputId": "dc3508a0-5630-493d-dbff-34ebdf47f346"
      },
      "execution_count": 60,
      "outputs": [
        {
          "output_type": "execute_result",
          "data": {
            "text/plain": [
              "(0.0, 1.0)"
            ]
          },
          "metadata": {},
          "execution_count": 60
        },
        {
          "output_type": "display_data",
          "data": {
            "text/plain": [
              "<Figure size 432x288 with 1 Axes>"
            ],
            "image/png": "[encoded data removed]"
          },
          "metadata": {
            "needs_background": "light"
          }
        }
      ]
    },
    {
      "cell_type": "markdown",
      "source": [
        "<h3>Построим модель сигнала после обратного быстрого преобразования Фурье</h3>"
      ],
      "metadata": {
        "id": "jyXQ6QV16edz"
      }
    },
    {
      "cell_type": "code",
      "source": [
        "plt.xlim(0, 1)\n",
        "plt.plot(t, sig_fft.real, label='ОБПФ')"
      ],
      "metadata": {
        "colab": {
          "base_uri": "https://localhost:8080/",
          "height": 282
        },
        "id": "yNbxKQMS6Q1y",
        "outputId": "13546f1e-db68-4329-b74d-1d5b0771a2e1"
      },
      "execution_count": 62,
      "outputs": [
        {
          "output_type": "execute_result",
          "data": {
            "text/plain": [
              "[<matplotlib.lines.Line2D at 0x7f5ed893d790>]"
            ]
          },
          "metadata": {},
          "execution_count": 62
        },
        {
          "output_type": "display_data",
          "data": {
            "text/plain": [
              "<Figure size 432x288 with 1 Axes>"
            ],
            "image/png": "[encoded data removed]"
          },
          "metadata": {
            "needs_background": "light"
          }
        }
      ]
    }
  ]
}